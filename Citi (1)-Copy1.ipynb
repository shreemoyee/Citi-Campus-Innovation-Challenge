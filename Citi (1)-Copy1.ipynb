{
 "cells": [
  {
   "cell_type": "markdown",
   "metadata": {
    "slideshow": {
     "slide_type": "slide"
    }
   },
   "source": [
    "# CCIC HACKATHON \n",
    "# Dark_n8_dee9"
   ]
  },
  {
   "cell_type": "code",
   "execution_count": 2,
   "metadata": {
    "slideshow": {
     "slide_type": "subslide"
    }
   },
   "outputs": [],
   "source": [
    "import pandas as pd\n",
    "import numpy as np\n",
    "%matplotlib inline\n",
    "import matplotlib.pyplot as plt\n",
    "import seaborn as sns"
   ]
  },
  {
   "cell_type": "code",
   "execution_count": 20,
   "metadata": {
    "slideshow": {
     "slide_type": "subslide"
    }
   },
   "outputs": [],
   "source": [
    "risk = pd.read_csv('/home/shreemoyee/Downloads/private-dataset/hackathon_payment_risk_data.csv', encoding = \"ISO-8859-1\")\n",
    "h_all = pd.read_csv('/home/shreemoyee/Downloads/private-dataset/hackathon_private_leader_board_data.csv', encoding = \"ISO-8859-1\")\n",
    "stat = pd.read_csv('/home/shreemoyee/Downloads/private-dataset/hackathon_statement_data.csv', encoding = \"ISO-8859-1\")"
   ]
  },
  {
   "cell_type": "code",
   "execution_count": 21,
   "metadata": {
    "scrolled": true,
    "slideshow": {
     "slide_type": "subslide"
    }
   },
   "outputs": [
    {
     "data": {
      "text/plain": [
       "PURCHASE         176365\n",
       "PAYMENT           26346\n",
       "REBATE REFUND        56\n",
       "Name: type_name, dtype: int64"
      ]
     },
     "execution_count": 21,
     "metadata": {},
     "output_type": "execute_result"
    }
   ],
   "source": [
    "h_all['type_name'].value_counts()"
   ]
  },
  {
   "cell_type": "markdown",
   "metadata": {
    "slideshow": {
     "slide_type": "slide"
    }
   },
   "source": [
    "### DATA CLEANING  "
   ]
  },
  {
   "cell_type": "code",
   "execution_count": 28,
   "metadata": {
    "slideshow": {
     "slide_type": "subslide"
    }
   },
   "outputs": [],
   "source": [
    "stat = stat.drop_duplicates().reset_index()"
   ]
  },
  {
   "cell_type": "code",
   "execution_count": 29,
   "metadata": {},
   "outputs": [
    {
     "data": {
      "text/plain": [
       "0"
      ]
     },
     "execution_count": 29,
     "metadata": {},
     "output_type": "execute_result"
    }
   ],
   "source": [
    "sum(h_all[h_all['type_name']=='PAYMENT']['payment_channel_desc'].isnull())"
   ]
  },
  {
   "cell_type": "code",
   "execution_count": 30,
   "metadata": {
    "slideshow": {
     "slide_type": "subslide"
    }
   },
   "outputs": [],
   "source": [
    "h_all['payment_channel_desc'] = h_all['payment_channel_desc'].replace('PAY BY PHONE +\\x82 SAWGRASS SINGLE PAYMENT', 'PAY BY PHONE ¶ SAWGRASS SINGLE PAYMENT')\n",
    "h_all['payment_channel_desc'] = h_all['payment_channel_desc'].replace('PAY BY PHONE +\\x82 CUSTOMER SERVICE SINGLE PAYMENT', 'PAY BY PHONE ¶ CUSTOMER SERVICE SINGLE PAYMENT')\n",
    "h_all['payment_channel_desc'] = h_all['payment_channel_desc'].replace('PAY BY PHONE +\\x82 COLLECTIONS RECURRING FIXED WITH MIN DUE PAYMENT', 'PAY BY PHONE ¶ COLLECTIONS RECURRING FIXED WITH MIN DUE PAYMENT')\n",
    "h_all['payment_channel_desc'] = h_all['payment_channel_desc'].replace('PAY BY PHONE +\\x82 COLLECTIONS RECURRING MINIMUM DUE PAYMENT', 'PAY BY PHONE ¶ COLLECTIONS RECURRING MINIMUM DUE PAYMENT')\n",
    "h_all['payment_channel_desc'] = h_all['payment_channel_desc'].replace('PAY BY PHONE +\\x82 COLLECTIONS RECURRING MINIMUM DUE PLUS PAYMENT', 'PAY BY PHONE ¶ COLLECTIONS RECURRING MINIMUM DUE PLUS PAYMENT')\n",
    "h_all['payment_channel_desc'] = h_all['payment_channel_desc'].replace('PAY BY PHONE +\\x82 COLLECTIONS SINGLE PAYMENT', 'PAY BY PHONE ¶ COLLECTIONS SINGLE PAYMENT')\n",
    "h_all['payment_channel_desc'] = h_all['payment_channel_desc'].replace('PAY BY PHONE +\\x82 CUSTOMER SERVICE IVR SINGLE PAYMENT', 'PAY BY PHONE ¶ CUSTOMER SERVICE IVR SINGLE PAYMENT')\n",
    "\n"
   ]
  },
  {
   "cell_type": "code",
   "execution_count": 31,
   "metadata": {
    "slideshow": {
     "slide_type": "subslide"
    }
   },
   "outputs": [],
   "source": [
    "h_all['payment_channel_desc'] = h_all['payment_channel_desc'].fillna('None')\n",
    "h_all = h_all.groupby(['card number', 'date', 'type_name', 'payment_channel_desc']).agg({'amountINR':'sum'}).reset_index()"
   ]
  },
  {
   "cell_type": "code",
   "execution_count": 32,
   "metadata": {
    "slideshow": {
     "slide_type": "subslide"
    }
   },
   "outputs": [
    {
     "name": "stdout",
     "output_type": "stream",
     "text": [
      "(7332, 6)\n",
      "(95248, 5)\n"
     ]
    }
   ],
   "source": [
    "print(stat.shape)\n",
    "print(h_all.shape)"
   ]
  },
  {
   "cell_type": "code",
   "execution_count": 33,
   "metadata": {
    "slideshow": {
     "slide_type": "subslide"
    }
   },
   "outputs": [],
   "source": [
    "stat['billingStartDate']=pd.to_datetime(stat['billingStartDate'])\n",
    "stat['billingEndDate']=pd.to_datetime(stat['billingEndDate'])"
   ]
  },
  {
   "cell_type": "code",
   "execution_count": 34,
   "metadata": {
    "slideshow": {
     "slide_type": "subslide"
    }
   },
   "outputs": [],
   "source": [
    "h_all['date'] = pd.to_datetime(h_all['date'])"
   ]
  },
  {
   "cell_type": "code",
   "execution_count": 50,
   "metadata": {
    "slideshow": {
     "slide_type": "skip"
    }
   },
   "outputs": [
    {
     "data": {
      "text/plain": [
       "1113"
      ]
     },
     "execution_count": 50,
     "metadata": {},
     "output_type": "execute_result"
    }
   ],
   "source": [
    "len((stat['card Number']).unique())"
   ]
  },
  {
   "cell_type": "code",
   "execution_count": 35,
   "metadata": {
    "slideshow": {
     "slide_type": "skip"
    }
   },
   "outputs": [
    {
     "data": {
      "text/plain": [
       "(95206, 5)"
      ]
     },
     "execution_count": 35,
     "metadata": {},
     "output_type": "execute_result"
    }
   ],
   "source": [
    "h_all = h_all[h_all['amountINR']>0]\n",
    "h_all.shape"
   ]
  },
  {
   "cell_type": "markdown",
   "metadata": {
    "slideshow": {
     "slide_type": "slide"
    }
   },
   "source": [
    "### UPDATED RISK CALCULATION "
   ]
  },
  {
   "cell_type": "markdown",
   "metadata": {
    "slideshow": {
     "slide_type": "subslide"
    }
   },
   "source": [
    "1. Payment channels of similar type were grouped into single category due  which the number of payment channels reduced from 54 to 14.\n",
    "2. The updated risk rating values were calculated for these categories using the given ratings and the number of times each payment channel was used. \n",
    "3. This is because a payment_channel used more often will be less risky. \n",
    " \n"
   ]
  },
  {
   "cell_type": "code",
   "execution_count": 36,
   "metadata": {
    "slideshow": {
     "slide_type": "subslide"
    }
   },
   "outputs": [],
   "source": [
    "  dict1 =      {'AUTOPAY PAYMENT' : 'AUTOPAY',\n",
    "       'AUTOPAY CBOL (BRANDS ONLY)': 'AUTOPAY',\n",
    "       'AUTOPAY COLLECTIONS (BRANDS ONLY)': 'AUTOPAY',\n",
    "       'AUTOPAY CUSTOMER SERVICE (BRANDS ONLY)': 'AUTOPAY',\n",
    "       'AUTOPAY PAPER FORM (BRANDS ONLY)': 'AUTOPAY', 'OFFUS CHECKS ONLY PAYMENT':'CHECKS1',\n",
    " 'ONUS CHECKS ONLY PAYMENT':'CHECKS1',\n",
    "       'MIXTURE OF ONUS AND OFFUS CHECKS':'CHECKS1',\n",
    "'Cash Payment':'CASH',\n",
    "       'CASH ONLY PAYMENT':'CASH',\n",
    "             'MIXTURE OF ONUS CHECKS AND CASH':'CASH',\n",
    "       'MIXTURE OF OFFUS CHECKS AND CASH':'CASH',\n",
    "       'MIXTURE OF ONUS CHECKS, OFFUS CHECKS AND CASH':'CASH',\n",
    "  'EXTERNAL CASH (ATM PAYMENTS)':'CASH',\n",
    "          'BRANCH PAYMENT GTPS TRANSFER' :'BRANCH TRANSFER',\n",
    "        'BRANCH PAYMENT NIVR TRANSFER' :'BRANCH TRANSFER',\n",
    "    'BRANCH PAYMENT MOBILE TRANSFER' :'BRANCH TRANSFER',\n",
    "        'BRANCH PAYMENT CBOL TRANSFER' :'BRANCH TRANSFER',\n",
    "\n",
    "\n",
    "\n",
    "      \n",
    "        'COPS RECURRING MINIMUM DUE PAYMENT' : 'COPS',\n",
    "        'COPS RECURRING MINIMUM DUE PLUS PAYMENT' : 'COPS',\n",
    "\n",
    "\n",
    "        'COLLECTIONS ONLINE SINGLE PAYMENT' : 'ONLINE',\n",
    "        'CLICK TO PAY PAYMENT' : 'ONLINE',\n",
    "\n",
    "\n",
    "             'INTERNAL NON CASH':'INTERNAL',\n",
    "        'INTERNAL UNKNOWN':'INTERNAL',\n",
    "\n",
    "   'CHECK PAYMENT, WITH COUPON, PROCESSED BY TRANSCENTRA':'CHECK',\n",
    "        'CHECK PAYMENT, WITHOUT COUPON, PROCESSED BY TRANSCENTRA' :'CHECK',\n",
    "\n",
    "\n",
    "        'PAYMENT MADE FROM A MOBILE DEVICE' : 'PHONE',\n",
    "           \n",
    "        'PAY BY PHONE PAYMENT (OLD)' : 'PHONE',\n",
    "        'PAY BY PHONE ¶ COLLECTIONS RECURRING BI-WEEKLY PAYMENT' : 'PHONE',\n",
    "        'PAY BY PHONE ¶ COLLECTIONS RECURRING MINIMUM DUE PAYMENT': 'PHONE',\n",
    "        'PAY BY PHONE ¶ COLLECTIONS RECURRING END OF MONTH PAYMENT' : 'PHONE',\n",
    "        'PAY BY PHONE ¶ COLLECTIONS RECURRING BALANCE IN FULL PAYMENT' : 'PHONE',\n",
    "        'PAY BY PHONE ¶ COLLECTIONS RECURRING MONTHLY PAYMENT' : 'PHONE',\n",
    "        'PAY BY PHONE ¶ COLLECTIONS RECURRING MINIMUM DUE PLUS PAYMENT' : 'PHONE',\n",
    "        'PAY BY PHONE ¶ COLLECTIONS RECURRING FIXED WITH MIN DUE PAYMENT':'PHONE'\n",
    "        ,\n",
    "        'PAY BY PHONE ¶ COLLECTIONS SINGLE PAYMENT' : 'PHONE',\n",
    "        'PAY BY PHONE ¶ COLLECTIONS RECURRING WEEKLY PAYMENT' : 'PHONE',\n",
    "        'PAY BY PHONE ¶ SAWGRASS SINGLE PAYMENT' : 'PHONE',\n",
    "        'PAY BY PHONE ¶ COLLECTIONS IVR RECURRING MINIMUM DUE PAYMENT' : 'PHONE',\n",
    "        'PAY BY PHONE ¶ COLLECTIONS IVR SINGLE PAYMENT' : 'PHONE',\n",
    "        'PAY BY PHONE ¶ COLLECTIONS SINGLE PAYMENT - PBP' : 'PHONE',\n",
    "        'PAY BY PHONE ¶ CUSTOMER SERVICE IVR SINGLE PAYMENT': 'PHONE',\n",
    "        'PAY BY PHONE ¶ CUSTOMER SERVICE RECURRING MINIMUM DUE PAYMENT' : 'PHONE',\n",
    "        'PAY BY PHONE ¶ CUSTOMER SERVICE RECURRING BALANCE IN FULL PAYMENT':'PHONE',\n",
    "        \n",
    "        'PAY BY PHONE ¶ CUSTOMER SERVICE RECURRING MONTHLY PAYMENT' : 'PHONE',\n",
    "        'PAY BY PHONE ¶ CUSTOMER SERVICE RECURRING MINIMUM DUE PLUS PAYMENT':'PHONE',\n",
    "        \n",
    "        'PAY BY PHONE ¶ CUSTOMER SERVICE RECURRING FIXED WITH MIN DUE PAYMENT':'PHONE',\n",
    "        \n",
    "        'PAY BY PHONE ¶ CUSTOMER SERVICE SINGLE PAYMENT' : 'PHONE',\n",
    "\n",
    "\n",
    "        'PAYMENT CHANNEL UNKNOWN':'UNKNOWN',\n",
    "  'OTHER':'UNKNOWN',\n",
    "                  'WIRE NON CASH':'WIRE NON CASH',\n",
    "\n",
    "   'ELECTRONIC PAYMENT MADE THROUGH A BILL PAYMENT SERVICE':'ELECTRONIC PAYMENT MADE THROUGH A BILL PAYMENT SERVICE',\n",
    "\n",
    "     \n",
    "        'EXTERNAL NON CASH':'EXTERNAL NON CASH',\n",
    "\n",
    "  'TRANSFER' : 'TRANSFER',\n",
    "  'None' : 'None'\n",
    "\n",
    "\n",
    "}"
   ]
  },
  {
   "cell_type": "code",
   "execution_count": 37,
   "metadata": {
    "slideshow": {
     "slide_type": "subslide"
    }
   },
   "outputs": [],
   "source": [
    "h_all['payment_channel_desc'] = h_all['payment_channel_desc'].map(dict1)"
   ]
  },
  {
   "cell_type": "code",
   "execution_count": 38,
   "metadata": {
    "slideshow": {
     "slide_type": "subslide"
    }
   },
   "outputs": [
    {
     "data": {
      "text/plain": [
       "None                                                      72218\n",
       "PHONE                                                      6442\n",
       "ONLINE                                                     5925\n",
       "UNKNOWN                                                    3882\n",
       "ELECTRONIC PAYMENT MADE THROUGH A BILL PAYMENT SERVICE     3319\n",
       "BRANCH TRANSFER                                            1602\n",
       "CASH                                                        620\n",
       "AUTOPAY                                                     399\n",
       "CHECK                                                       207\n",
       "EXTERNAL NON CASH                                            75\n",
       "TRANSFER                                                     67\n",
       "CHECKS1                                                      52\n",
       "INTERNAL                                                     10\n",
       "COPS                                                          6\n",
       "Name: payment_channel_desc, dtype: int64"
      ]
     },
     "execution_count": 38,
     "metadata": {},
     "output_type": "execute_result"
    }
   ],
   "source": [
    "h_all.payment_channel_desc.value_counts()"
   ]
  },
  {
   "cell_type": "code",
   "execution_count": 39,
   "metadata": {
    "slideshow": {
     "slide_type": "skip"
    }
   },
   "outputs": [],
   "source": [
    "cards = h_all['card number'].unique()\n",
    "\n",
    "stat = stat[stat['card Number'].isin(cards)]"
   ]
  },
  {
   "cell_type": "code",
   "execution_count": 40,
   "metadata": {
    "slideshow": {
     "slide_type": "skip"
    }
   },
   "outputs": [
    {
     "data": {
      "text/plain": [
       "(7184, 6)"
      ]
     },
     "execution_count": 40,
     "metadata": {},
     "output_type": "execute_result"
    }
   ],
   "source": [
    "stat.shape"
   ]
  },
  {
   "cell_type": "code",
   "execution_count": 42,
   "metadata": {
    "slideshow": {
     "slide_type": "subslide"
    }
   },
   "outputs": [
    {
     "name": "stderr",
     "output_type": "stream",
     "text": [
      "/home/shreemoyee/anaconda2/envs/py3k/lib/python3.6/site-packages/sklearn/utils/validation.py:429: DataConversionWarning: Data with input dtype int64 was converted to float64 by MinMaxScaler.\n",
      "  warnings.warn(msg, _DataConversionWarning)\n"
     ]
    }
   ],
   "source": [
    "risk2=risk.copy(deep=True)\n",
    "\n",
    "risk2['payment_channel_desc']=risk2['payment_channel_desc'].map(dict1)\n",
    "\n",
    "risk2=risk2.drop_duplicates()\n",
    "\n",
    "risk2.index=range(risk2.shape[0])\n",
    "\n",
    "risk2['cnt']=risk2['payment_channel_desc'].apply(lambda x: h_all['payment_channel_desc'].value_counts()[x] if x in h_all['payment_channel_desc'].values else 0)\n",
    "risk2['cnt']/=risk2['cnt'].sum()\n",
    "from sklearn import preprocessing\n",
    "scaler=preprocessing.MinMaxScaler(feature_range=(1,3))\n",
    "\n",
    "\n",
    "risk2['risk rating']=scaler.fit_transform(np.array(risk2['risk rating'].values).reshape(-1,1))\n",
    "risk2.loc[14]=['None',0,1]\n",
    "df=pd.merge(h_all,risk2,on='payment_channel_desc')\n",
    "\n",
    "df=df.sort_values(by=['card number','date'])\n",
    "\n",
    "df.index=range(df.shape[0])\n",
    "\n",
    "df['risk rating2']=df['risk rating']+1-df['cnt']"
   ]
  },
  {
   "cell_type": "code",
   "execution_count": 53,
   "metadata": {
    "slideshow": {
     "slide_type": "skip"
    }
   },
   "outputs": [],
   "source": [
    "stat.index = range(stat.shape[0])"
   ]
  },
  {
   "cell_type": "code",
   "execution_count": 29,
   "metadata": {
    "collapsed": true,
    "slideshow": {
     "slide_type": "skip"
    }
   },
   "outputs": [],
   "source": [
    "stat = stat.drop(['index'], axis = 1)"
   ]
  },
  {
   "cell_type": "code",
   "execution_count": 55,
   "metadata": {
    "slideshow": {
     "slide_type": "subslide"
    }
   },
   "outputs": [
    {
     "data": {
      "text/html": [
       "<div>\n",
       "<table border=\"1\" class=\"dataframe\">\n",
       "  <thead>\n",
       "    <tr style=\"text-align: right;\">\n",
       "      <th></th>\n",
       "      <th>card number</th>\n",
       "      <th>date</th>\n",
       "      <th>type_name</th>\n",
       "      <th>payment_channel_desc</th>\n",
       "      <th>amountINR</th>\n",
       "      <th>risk rating</th>\n",
       "      <th>cnt</th>\n",
       "      <th>risk rating2</th>\n",
       "    </tr>\n",
       "  </thead>\n",
       "  <tbody>\n",
       "    <tr>\n",
       "      <th>0</th>\n",
       "      <td>Card1</td>\n",
       "      <td>2014-04-01</td>\n",
       "      <td>PAYMENT</td>\n",
       "      <td>AUTOPAY</td>\n",
       "      <td>27198.53126</td>\n",
       "      <td>1.0</td>\n",
       "      <td>0.017650</td>\n",
       "      <td>1.982350</td>\n",
       "    </tr>\n",
       "    <tr>\n",
       "      <th>1</th>\n",
       "      <td>Card1</td>\n",
       "      <td>2014-05-02</td>\n",
       "      <td>PAYMENT</td>\n",
       "      <td>AUTOPAY</td>\n",
       "      <td>30300.00735</td>\n",
       "      <td>1.0</td>\n",
       "      <td>0.017650</td>\n",
       "      <td>1.982350</td>\n",
       "    </tr>\n",
       "    <tr>\n",
       "      <th>2</th>\n",
       "      <td>Card1</td>\n",
       "      <td>2014-06-01</td>\n",
       "      <td>PAYMENT</td>\n",
       "      <td>AUTOPAY</td>\n",
       "      <td>38904.53554</td>\n",
       "      <td>1.0</td>\n",
       "      <td>0.017650</td>\n",
       "      <td>1.982350</td>\n",
       "    </tr>\n",
       "    <tr>\n",
       "      <th>3</th>\n",
       "      <td>Card1</td>\n",
       "      <td>2014-07-02</td>\n",
       "      <td>PAYMENT</td>\n",
       "      <td>AUTOPAY</td>\n",
       "      <td>40642.38724</td>\n",
       "      <td>1.0</td>\n",
       "      <td>0.017650</td>\n",
       "      <td>1.982350</td>\n",
       "    </tr>\n",
       "    <tr>\n",
       "      <th>4</th>\n",
       "      <td>Card1</td>\n",
       "      <td>2014-07-12</td>\n",
       "      <td>PAYMENT</td>\n",
       "      <td>CHECK</td>\n",
       "      <td>616290.09430</td>\n",
       "      <td>1.0</td>\n",
       "      <td>0.009157</td>\n",
       "      <td>1.990843</td>\n",
       "    </tr>\n",
       "  </tbody>\n",
       "</table>\n",
       "</div>"
      ],
      "text/plain": [
       "  card number       date type_name payment_channel_desc     amountINR  \\\n",
       "0       Card1 2014-04-01   PAYMENT              AUTOPAY   27198.53126   \n",
       "1       Card1 2014-05-02   PAYMENT              AUTOPAY   30300.00735   \n",
       "2       Card1 2014-06-01   PAYMENT              AUTOPAY   38904.53554   \n",
       "3       Card1 2014-07-02   PAYMENT              AUTOPAY   40642.38724   \n",
       "4       Card1 2014-07-12   PAYMENT                CHECK  616290.09430   \n",
       "\n",
       "   risk rating       cnt  risk rating2  \n",
       "0          1.0  0.017650      1.982350  \n",
       "1          1.0  0.017650      1.982350  \n",
       "2          1.0  0.017650      1.982350  \n",
       "3          1.0  0.017650      1.982350  \n",
       "4          1.0  0.009157      1.990843  "
      ]
     },
     "execution_count": 55,
     "metadata": {},
     "output_type": "execute_result"
    }
   ],
   "source": [
    "df.head()"
   ]
  },
  {
   "cell_type": "markdown",
   "metadata": {
    "slideshow": {
     "slide_type": "slide"
    }
   },
   "source": [
    "### FEATURE ENGINEERING"
   ]
  },
  {
   "cell_type": "markdown",
   "metadata": {
    "slideshow": {
     "slide_type": "subslide"
    }
   },
   "source": [
    "1. How much payment and purchase have been done in a billing cycle?\n",
    "2. How many payments have been done in a billing cycle?\n",
    "3. Can we formulate payment, purchase and refund together to detect the fraud?\n",
    "4. How many times has the card holder made a payment greater than the purchase and also asked for a refund later?\n",
    "5. How much is the risk involved in a particular payment mode?\n"
   ]
  },
  {
   "cell_type": "code",
   "execution_count": 56,
   "metadata": {
    "scrolled": false,
    "slideshow": {
     "slide_type": "slide"
    }
   },
   "outputs": [
    {
     "name": "stdout",
     "output_type": "stream",
     "text": [
      "Left to be done:  7184\n",
      "Left to be done:  6984\n",
      "Left to be done:  6784\n",
      "Left to be done:  6584\n",
      "Left to be done:  6384\n",
      "Left to be done:  6184\n",
      "Left to be done:  5984\n",
      "Left to be done:  5784\n",
      "Left to be done:  5584\n",
      "Left to be done:  5384\n",
      "Left to be done:  5184\n",
      "Left to be done:  4984\n",
      "Left to be done:  4784\n",
      "Left to be done:  4584\n",
      "Left to be done:  4384\n",
      "Left to be done:  4184\n",
      "Left to be done:  3984\n",
      "Left to be done:  3784\n",
      "Left to be done:  3584\n",
      "Left to be done:  3384\n",
      "Left to be done:  3184\n",
      "Left to be done:  2984\n",
      "Left to be done:  2784\n",
      "Left to be done:  2584\n",
      "Left to be done:  2384\n",
      "Left to be done:  2184\n",
      "Left to be done:  1984\n",
      "Left to be done:  1784\n",
      "Left to be done:  1584\n",
      "Left to be done:  1384\n",
      "Left to be done:  1184\n",
      "Left to be done:  984\n",
      "Left to be done:  784\n",
      "Left to be done:  584\n",
      "Left to be done:  384\n",
      "Left to be done:  184\n"
     ]
    }
   ],
   "source": [
    "pay = []\n",
    "#pay_no=[]\n",
    "purchase=[]\n",
    "#purchase_no=[]\n",
    "refund=[]\n",
    "refund_no=[]\n",
    "rk_wt = []\n",
    "rk_wt2 = []\n",
    "for i in range(stat.shape[0]):\n",
    "    st = stat.loc[i,'billingStartDate']\n",
    "    end = stat.loc[i,'billingEndDate']\n",
    "    py = stat.loc[i,'paymentDueDate']\n",
    "    cd = stat.loc[i,'card Number']\n",
    "    pay.append(df[(df['card number']==cd)&(df['date']>=st)&(df['date']<py)&(df['type_name']=='PAYMENT')]['amountINR'].sum())\n",
    "    #pay_no.append(df[(df['card number']==cd)&(df['date']>=st)&(df['date']<py)&(df['type_name']=='PAYMENT')]['amountINR'].count())\n",
    "    purchase.append(df[(df['card number']==cd)&(df['date']>=st)&(df['date']<end)&(df['type_name']=='PURCHASE')]['amountINR'].sum())\n",
    "    #purchase_no.append(df[(df['card number']==cd)&(df['date']>=st)&(df['date']<end)&(df['type_name']=='PURCHASE')]['amountINR'].count())\n",
    "    ref = df[(df['card number']==cd)&(df['date']>=st)&(df['date']<py)&(df['type_name']=='REBATE REFUND')]\n",
    "    refund.append(ref['amountINR'].sum())\n",
    "    refund_no.append(ref['amountINR'].count())\n",
    "    data=(df[(df['card number']==cd)&(df['date']>=st)&(df['date']<py)&(df['type_name']=='PAYMENT')])\n",
    "    if data.shape[0]==0:\n",
    "        rk_wt.append(0)\n",
    "        #rk_wt2.append(0)\n",
    "    else:\n",
    "        rk_wt.append(data.apply(lambda x: np.average(x['amountINR'],weights=x['risk rating']),axis=1).values[0])\n",
    "        #rk_wt2.append(data.apply(lambda x: np.average(x.amountINR,weights=x['risk rating2']),axis=1).values[0])\n",
    "    \n",
    "    if(i%200==0):\n",
    "        print(\"Left to be done: \",stat.shape[0]-i)"
   ]
  },
  {
   "cell_type": "code",
   "execution_count": 95,
   "metadata": {
    "slideshow": {
     "slide_type": "subslide"
    }
   },
   "outputs": [],
   "source": [
    "stat['pay']  = pd.Series(pay)\n",
    "#stat['pay_no']= pd.Series(pay_no)\n",
    "stat['purchase']=pd.Series(purchase)\n",
    "#stat['purchase_no']=pd.Series(purchase_no)\n",
    "stat['refund']=pd.Series(refund)\n",
    "stat['refund_no']=pd.Series(refund_no)\n",
    "stat['rk_wt']=pd.Series(rk_wt)\n",
    "#stat['rk_wt2']=pd.Series(rk_wt2)"
   ]
  },
  {
   "cell_type": "code",
   "execution_count": 121,
   "metadata": {
    "slideshow": {
     "slide_type": "skip"
    }
   },
   "outputs": [
    {
     "data": {
      "text/plain": [
       "0"
      ]
     },
     "execution_count": 121,
     "metadata": {},
     "output_type": "execute_result"
    }
   ],
   "source": [
    "sum(stat['rk_wt'].isnull())"
   ]
  },
  {
   "cell_type": "code",
   "execution_count": 58,
   "metadata": {
    "slideshow": {
     "slide_type": "skip"
    }
   },
   "outputs": [
    {
     "data": {
      "text/plain": [
       "(7184, 10)"
      ]
     },
     "execution_count": 58,
     "metadata": {},
     "output_type": "execute_result"
    }
   ],
   "source": [
    "stat.shape"
   ]
  },
  {
   "cell_type": "code",
   "execution_count": 36,
   "metadata": {
    "slideshow": {
     "slide_type": "skip"
    }
   },
   "outputs": [],
   "source": [
    "stat=stat.drop('level_0',1)"
   ]
  },
  {
   "cell_type": "code",
   "execution_count": 28,
   "metadata": {
    "scrolled": false,
    "slideshow": {
     "slide_type": "skip"
    }
   },
   "outputs": [],
   "source": [
    "#pd.isnull(f).apply(lambda x: sum(x))"
   ]
  },
  {
   "cell_type": "code",
   "execution_count": 60,
   "metadata": {
    "slideshow": {
     "slide_type": "subslide"
    }
   },
   "outputs": [],
   "source": [
    "#How likely is a card to default?\n",
    "dict_fraud = stat[(stat['pay']>stat['purchase'])&(stat['refund_no']!=0)].groupby('card Number')['card Number'].count().to_dict()\n",
    "stat['fraud'] = pd.Series()\n",
    "stat['fraud'] = stat['card Number'].map(dict_fraud).fillna(0)\n"
   ]
  },
  {
   "cell_type": "code",
   "execution_count": 61,
   "metadata": {
    "scrolled": true,
    "slideshow": {
     "slide_type": "skip"
    }
   },
   "outputs": [
    {
     "data": {
      "text/html": [
       "<div>\n",
       "<table border=\"1\" class=\"dataframe\">\n",
       "  <thead>\n",
       "    <tr style=\"text-align: right;\">\n",
       "      <th></th>\n",
       "      <th>card Number</th>\n",
       "      <th>billingStartDate</th>\n",
       "      <th>billingEndDate</th>\n",
       "      <th>paymentDueDate</th>\n",
       "      <th>pay</th>\n",
       "      <th>purchase</th>\n",
       "      <th>refund</th>\n",
       "      <th>refund_no</th>\n",
       "      <th>rk_wt</th>\n",
       "      <th>rk_wt2</th>\n",
       "      <th>fraud</th>\n",
       "    </tr>\n",
       "  </thead>\n",
       "  <tbody>\n",
       "    <tr>\n",
       "      <th>0</th>\n",
       "      <td>Card1</td>\n",
       "      <td>2014-03-13</td>\n",
       "      <td>2014-04-12</td>\n",
       "      <td>4/27/2014</td>\n",
       "      <td>27198.53126</td>\n",
       "      <td>0.0</td>\n",
       "      <td>0.0</td>\n",
       "      <td>0</td>\n",
       "      <td>27198.53126</td>\n",
       "      <td>NaN</td>\n",
       "      <td>0.0</td>\n",
       "    </tr>\n",
       "    <tr>\n",
       "      <th>1</th>\n",
       "      <td>Card1</td>\n",
       "      <td>2014-04-13</td>\n",
       "      <td>2014-05-12</td>\n",
       "      <td>5/27/2014</td>\n",
       "      <td>30300.00735</td>\n",
       "      <td>0.0</td>\n",
       "      <td>0.0</td>\n",
       "      <td>0</td>\n",
       "      <td>30300.00735</td>\n",
       "      <td>NaN</td>\n",
       "      <td>0.0</td>\n",
       "    </tr>\n",
       "    <tr>\n",
       "      <th>2</th>\n",
       "      <td>Card1</td>\n",
       "      <td>2014-05-13</td>\n",
       "      <td>2014-06-12</td>\n",
       "      <td>6/27/2014</td>\n",
       "      <td>38904.53554</td>\n",
       "      <td>0.0</td>\n",
       "      <td>0.0</td>\n",
       "      <td>0</td>\n",
       "      <td>38904.53554</td>\n",
       "      <td>NaN</td>\n",
       "      <td>0.0</td>\n",
       "    </tr>\n",
       "    <tr>\n",
       "      <th>3</th>\n",
       "      <td>Card1</td>\n",
       "      <td>2014-06-13</td>\n",
       "      <td>2014-07-12</td>\n",
       "      <td>7/27/2014</td>\n",
       "      <td>656932.48154</td>\n",
       "      <td>0.0</td>\n",
       "      <td>0.0</td>\n",
       "      <td>0</td>\n",
       "      <td>40642.38724</td>\n",
       "      <td>NaN</td>\n",
       "      <td>0.0</td>\n",
       "    </tr>\n",
       "    <tr>\n",
       "      <th>4</th>\n",
       "      <td>Card1</td>\n",
       "      <td>2014-07-13</td>\n",
       "      <td>2014-08-12</td>\n",
       "      <td>8/27/2014</td>\n",
       "      <td>53665.23811</td>\n",
       "      <td>0.0</td>\n",
       "      <td>0.0</td>\n",
       "      <td>0</td>\n",
       "      <td>53665.23811</td>\n",
       "      <td>NaN</td>\n",
       "      <td>0.0</td>\n",
       "    </tr>\n",
       "  </tbody>\n",
       "</table>\n",
       "</div>"
      ],
      "text/plain": [
       "  card Number billingStartDate billingEndDate paymentDueDate           pay  \\\n",
       "0       Card1       2014-03-13     2014-04-12      4/27/2014   27198.53126   \n",
       "1       Card1       2014-04-13     2014-05-12      5/27/2014   30300.00735   \n",
       "2       Card1       2014-05-13     2014-06-12      6/27/2014   38904.53554   \n",
       "3       Card1       2014-06-13     2014-07-12      7/27/2014  656932.48154   \n",
       "4       Card1       2014-07-13     2014-08-12      8/27/2014   53665.23811   \n",
       "\n",
       "   purchase  refund  refund_no        rk_wt  rk_wt2  fraud  \n",
       "0       0.0     0.0          0  27198.53126     NaN    0.0  \n",
       "1       0.0     0.0          0  30300.00735     NaN    0.0  \n",
       "2       0.0     0.0          0  38904.53554     NaN    0.0  \n",
       "3       0.0     0.0          0  40642.38724     NaN    0.0  \n",
       "4       0.0     0.0          0  53665.23811     NaN    0.0  "
      ]
     },
     "execution_count": 61,
     "metadata": {},
     "output_type": "execute_result"
    }
   ],
   "source": [
    "'''stat = stat.reset_index(drop=True)\n",
    "stat = stat.drop(['index'], axis=1)'''\n",
    "stat.head()"
   ]
  },
  {
   "cell_type": "code",
   "execution_count": 96,
   "metadata": {
    "scrolled": false,
    "slideshow": {
     "slide_type": "skip"
    }
   },
   "outputs": [],
   "source": [
    "p = h_all[h_all['type_name']=='PAYMENT']"
   ]
  },
  {
   "cell_type": "code",
   "execution_count": 97,
   "metadata": {
    "slideshow": {
     "slide_type": "subslide"
    }
   },
   "outputs": [],
   "source": [
    "stat['over_pay'] = stat['pay']-stat['purchase']\n",
    "\n",
    "stat['balance'] = -stat['pay']+stat['purchase']\n",
    "\n",
    "stat['balance']=stat.groupby(['card Number'])['balance'].cumsum()"
   ]
  },
  {
   "cell_type": "code",
   "execution_count": 98,
   "metadata": {
    "scrolled": true,
    "slideshow": {
     "slide_type": "skip"
    }
   },
   "outputs": [],
   "source": [
    "#stat.head(10)"
   ]
  },
  {
   "cell_type": "code",
   "execution_count": 149,
   "metadata": {
    "slideshow": {
     "slide_type": "slide"
    }
   },
   "outputs": [
    {
     "name": "stderr",
     "output_type": "stream",
     "text": [
      "/home/shreemoyee/anaconda2/envs/py3k/lib/python3.6/site-packages/statsmodels/nonparametric/kdetools.py:20: VisibleDeprecationWarning: using a non-integer number instead of an integer will result in an error in the future\n",
      "  y = X[:m/2+1] + np.r_[0,X[m/2+1:],0]*1j\n"
     ]
    },
    {
     "data": {
      "text/plain": [
       "<matplotlib.axes._subplots.AxesSubplot at 0x7f4d0a047198>"
      ]
     },
     "execution_count": 149,
     "metadata": {},
     "output_type": "execute_result"
    },
    {
     "data": {
      "image/png": "[encoded data removed]",
      "text/plain": [
       "<matplotlib.figure.Figure at 0x7f4d1a4b4438>"
      ]
     },
     "metadata": {},
     "output_type": "display_data"
    }
   ],
   "source": [
    "sns.distplot(h_all['amountINR'])"
   ]
  },
  {
   "cell_type": "markdown",
   "metadata": {
    "slideshow": {
     "slide_type": "subslide"
    }
   },
   "source": [
    "amountINR is highly left-skewed, as plotted. \n",
    "The vast majority of transactions are relatively small and only a tiny fraction of transactions comes even close to the maximum.\n"
   ]
  },
  {
   "cell_type": "code",
   "execution_count": 150,
   "metadata": {
    "slideshow": {
     "slide_type": "subslide"
    }
   },
   "outputs": [
    {
     "name": "stderr",
     "output_type": "stream",
     "text": [
      "/home/shreemoyee/anaconda2/envs/py3k/lib/python3.6/site-packages/statsmodels/nonparametric/kdetools.py:20: VisibleDeprecationWarning: using a non-integer number instead of an integer will result in an error in the future\n",
      "  y = X[:m/2+1] + np.r_[0,X[m/2+1:],0]*1j\n"
     ]
    },
    {
     "data": {
      "text/plain": [
       "<matplotlib.axes._subplots.AxesSubplot at 0x7f4d0993ed68>"
      ]
     },
     "execution_count": 150,
     "metadata": {},
     "output_type": "execute_result"
    },
    {
     "data": {
      "image/png": "[encoded data removed]",
      "text/plain": [
       "<matplotlib.figure.Figure at 0x7f4d1b2d4fd0>"
      ]
     },
     "metadata": {},
     "output_type": "display_data"
    }
   ],
   "source": [
    "sns.distplot((stat.billingEndDate -np.min(stat.billingStartDate) ).dt.days.value_counts())"
   ]
  },
  {
   "cell_type": "code",
   "execution_count": 101,
   "metadata": {
    "slideshow": {
     "slide_type": "subslide"
    }
   },
   "outputs": [],
   "source": [
    "stat['purchase_pay_ratio'] = stat['pay']/stat['purchase']"
   ]
  },
  {
   "cell_type": "code",
   "execution_count": 102,
   "metadata": {
    "slideshow": {
     "slide_type": "subslide"
    }
   },
   "outputs": [],
   "source": [
    "stat['purchase_pay_ratio'] = stat['purchase_pay_ratio'].replace(np.Inf, np.nan)\n",
    "stat['purchase_pay_ratio'] = stat['purchase_pay_ratio'].replace(-np.Inf, np.nan)\n",
    "stat['purchase_pay_ratio'] = stat['purchase_pay_ratio'].fillna(np.nanpercentile(stat['purchase_pay_ratio'],75))"
   ]
  },
  {
   "cell_type": "code",
   "execution_count": 103,
   "metadata": {
    "slideshow": {
     "slide_type": "subslide"
    }
   },
   "outputs": [],
   "source": [
    "stat['all_'] = stat['over_pay']+stat['refund']"
   ]
  },
  {
   "cell_type": "code",
   "execution_count": 151,
   "metadata": {
    "slideshow": {
     "slide_type": "subslide"
    }
   },
   "outputs": [
    {
     "name": "stderr",
     "output_type": "stream",
     "text": [
      "/home/shreemoyee/anaconda2/envs/py3k/lib/python3.6/site-packages/statsmodels/nonparametric/kdetools.py:20: VisibleDeprecationWarning: using a non-integer number instead of an integer will result in an error in the future\n",
      "  y = X[:m/2+1] + np.r_[0,X[m/2+1:],0]*1j\n"
     ]
    },
    {
     "data": {
      "text/plain": [
       "<matplotlib.axes._subplots.AxesSubplot at 0x7f4d0985c6a0>"
      ]
     },
     "execution_count": 151,
     "metadata": {},
     "output_type": "execute_result"
    },
    {
     "data": {
      "image/png": "[encoded data removed]",
      "text/plain": [
       "<matplotlib.figure.Figure at 0x7f4d097d4208>"
      ]
     },
     "metadata": {},
     "output_type": "display_data"
    }
   ],
   "source": [
    "sns.distplot(stat['all_'])"
   ]
  },
  {
   "cell_type": "markdown",
   "metadata": {
    "slideshow": {
     "slide_type": "subslide"
    }
   },
   "source": [
    "The above shows that even though \"amountINR\" was highly skewed, the new feature created in normally distributed"
   ]
  },
  {
   "cell_type": "code",
   "execution_count": 105,
   "metadata": {
    "slideshow": {
     "slide_type": "subslide"
    }
   },
   "outputs": [],
   "source": [
    "dic=((stat.groupby('card Number')['pay'].max()-stat.groupby('card Number')['pay'].mean())>1e5).to_dict()\n",
    "f['fraud_pay']=f['card number'].map(dic)"
   ]
  },
  {
   "cell_type": "code",
   "execution_count": 106,
   "metadata": {
    "slideshow": {
     "slide_type": "subslide"
    }
   },
   "outputs": [],
   "source": [
    "dic=(stat.groupby('card Number')['pay'].mean()).to_dict()\n",
    "stat['mean'] = pd.Series()\n",
    "stat['mean'] = stat['card Number'].map(dic)"
   ]
  },
  {
   "cell_type": "code",
   "execution_count": 108,
   "metadata": {
    "slideshow": {
     "slide_type": "subslide"
    }
   },
   "outputs": [],
   "source": [
    "def create_cols(data, cols):\n",
    "    df = pd.DataFrame(columns = ['card number'])\n",
    "    df['card number'] = pd.Series(data['card Number'].unique())\n",
    "    ms = ['mean', 'max', 'std', 'min']\n",
    "    for col in cols:\n",
    "        for m in ms: \n",
    "            new_c = col+'_'+ m\n",
    "            if(m=='mean'):\n",
    "                df[new_c] = df['card number'].map((data.groupby(['card Number'])[col].mean()).to_dict())\n",
    "            elif(m=='max'):\n",
    "                df[new_c] = df['card number'].map((data.groupby(['card Number'])[col].max()).to_dict())\n",
    "            elif(m=='std'):\n",
    "                df[new_c] = df['card number'].map((data.groupby(['card Number'])[col].std()).to_dict())\n",
    "            elif(m=='min'):\n",
    "                df[new_c] = df['card number'].map((data.groupby(['card Number'])[col].min()).to_dict())\n",
    "                    \n",
    "    return df            \n",
    "                    "
   ]
  },
  {
   "cell_type": "code",
   "execution_count": 109,
   "metadata": {
    "slideshow": {
     "slide_type": "subslide"
    }
   },
   "outputs": [],
   "source": [
    "cols = ['pay',  'purchase',  'refund', 'refund_no'\n",
    "         ,'refund','over_pay', 'balance',\n",
    "       'purchase_pay_ratio','all_']\n"
   ]
  },
  {
   "cell_type": "code",
   "execution_count": 110,
   "metadata": {
    "slideshow": {
     "slide_type": "subslide"
    }
   },
   "outputs": [],
   "source": [
    "f = create_cols(stat, cols)"
   ]
  },
  {
   "cell_type": "code",
   "execution_count": 152,
   "metadata": {
    "slideshow": {
     "slide_type": "subslide"
    }
   },
   "outputs": [
    {
     "data": {
      "text/html": [
       "<div>\n",
       "<table border=\"1\" class=\"dataframe\">\n",
       "  <thead>\n",
       "    <tr style=\"text-align: right;\">\n",
       "      <th></th>\n",
       "      <th>card number</th>\n",
       "      <th>pay_mean</th>\n",
       "      <th>pay_max</th>\n",
       "      <th>pay_std</th>\n",
       "      <th>pay_min</th>\n",
       "      <th>purchase_mean</th>\n",
       "      <th>purchase_max</th>\n",
       "      <th>purchase_std</th>\n",
       "      <th>purchase_min</th>\n",
       "      <th>refund_mean</th>\n",
       "      <th>...</th>\n",
       "      <th>all__max</th>\n",
       "      <th>all__std</th>\n",
       "      <th>all__min</th>\n",
       "      <th>rk_wt_mean</th>\n",
       "      <th>rk_wt_max</th>\n",
       "      <th>rk_wt_min</th>\n",
       "      <th>fraud</th>\n",
       "      <th>fraud2</th>\n",
       "      <th>lab</th>\n",
       "      <th>fr</th>\n",
       "    </tr>\n",
       "  </thead>\n",
       "  <tbody>\n",
       "    <tr>\n",
       "      <th>0</th>\n",
       "      <td>Card1</td>\n",
       "      <td>143444.338652</td>\n",
       "      <td>656932.481540</td>\n",
       "      <td>251807.046983</td>\n",
       "      <td>27198.53126</td>\n",
       "      <td>105852.430390</td>\n",
       "      <td>635114.582339</td>\n",
       "      <td>259284.442489</td>\n",
       "      <td>0.0</td>\n",
       "      <td>0.000000</td>\n",
       "      <td>...</td>\n",
       "      <td>656932.481540</td>\n",
       "      <td>391718.288320</td>\n",
       "      <td>-581449.344229</td>\n",
       "      <td>134500.132300</td>\n",
       "      <td>53665.23811</td>\n",
       "      <td>27198.53126</td>\n",
       "      <td>0.0</td>\n",
       "      <td>5.0</td>\n",
       "      <td>0</td>\n",
       "      <td>1.0</td>\n",
       "    </tr>\n",
       "    <tr>\n",
       "      <th>1</th>\n",
       "      <td>Card2</td>\n",
       "      <td>66036.666930</td>\n",
       "      <td>259033.671300</td>\n",
       "      <td>85933.236175</td>\n",
       "      <td>25282.69062</td>\n",
       "      <td>74510.287444</td>\n",
       "      <td>347074.153657</td>\n",
       "      <td>121032.029955</td>\n",
       "      <td>0.0</td>\n",
       "      <td>0.000000</td>\n",
       "      <td>...</td>\n",
       "      <td>31281.501030</td>\n",
       "      <td>38377.622729</td>\n",
       "      <td>-88040.482357</td>\n",
       "      <td>57456.728299</td>\n",
       "      <td>53665.23811</td>\n",
       "      <td>27198.53126</td>\n",
       "      <td>0.0</td>\n",
       "      <td>1.0</td>\n",
       "      <td>0</td>\n",
       "      <td>1.0</td>\n",
       "    </tr>\n",
       "    <tr>\n",
       "      <th>2</th>\n",
       "      <td>Card3</td>\n",
       "      <td>1402.545334</td>\n",
       "      <td>4712.402997</td>\n",
       "      <td>1910.329098</td>\n",
       "      <td>0.00000</td>\n",
       "      <td>38188.700604</td>\n",
       "      <td>124267.552053</td>\n",
       "      <td>45634.247881</td>\n",
       "      <td>0.0</td>\n",
       "      <td>0.000000</td>\n",
       "      <td>...</td>\n",
       "      <td>4712.402997</td>\n",
       "      <td>46092.343215</td>\n",
       "      <td>-122176.747301</td>\n",
       "      <td>3272.605779</td>\n",
       "      <td>53665.23811</td>\n",
       "      <td>27198.53126</td>\n",
       "      <td>0.0</td>\n",
       "      <td>2.0</td>\n",
       "      <td>0</td>\n",
       "      <td>0.0</td>\n",
       "    </tr>\n",
       "    <tr>\n",
       "      <th>3</th>\n",
       "      <td>Card4</td>\n",
       "      <td>80406.373792</td>\n",
       "      <td>175303.383710</td>\n",
       "      <td>69362.056999</td>\n",
       "      <td>0.00000</td>\n",
       "      <td>47721.251107</td>\n",
       "      <td>102030.677973</td>\n",
       "      <td>30757.937057</td>\n",
       "      <td>0.0</td>\n",
       "      <td>26342.565031</td>\n",
       "      <td>...</td>\n",
       "      <td>126970.595528</td>\n",
       "      <td>44316.017863</td>\n",
       "      <td>3092.854460</td>\n",
       "      <td>50987.999205</td>\n",
       "      <td>53665.23811</td>\n",
       "      <td>27198.53126</td>\n",
       "      <td>0.0</td>\n",
       "      <td>3.0</td>\n",
       "      <td>1</td>\n",
       "      <td>0.0</td>\n",
       "    </tr>\n",
       "    <tr>\n",
       "      <th>4</th>\n",
       "      <td>Card5</td>\n",
       "      <td>292947.768214</td>\n",
       "      <td>660042.173300</td>\n",
       "      <td>240172.639948</td>\n",
       "      <td>0.00000</td>\n",
       "      <td>125211.831989</td>\n",
       "      <td>286585.146435</td>\n",
       "      <td>89460.250366</td>\n",
       "      <td>0.0</td>\n",
       "      <td>0.000000</td>\n",
       "      <td>...</td>\n",
       "      <td>502584.522272</td>\n",
       "      <td>231354.665614</td>\n",
       "      <td>-106290.902135</td>\n",
       "      <td>229176.753840</td>\n",
       "      <td>53665.23811</td>\n",
       "      <td>27198.53126</td>\n",
       "      <td>0.0</td>\n",
       "      <td>4.0</td>\n",
       "      <td>0</td>\n",
       "      <td>3.0</td>\n",
       "    </tr>\n",
       "  </tbody>\n",
       "</table>\n",
       "<p>5 rows × 39 columns</p>\n",
       "</div>"
      ],
      "text/plain": [
       "  card number       pay_mean        pay_max        pay_std      pay_min  \\\n",
       "0       Card1  143444.338652  656932.481540  251807.046983  27198.53126   \n",
       "1       Card2   66036.666930  259033.671300   85933.236175  25282.69062   \n",
       "2       Card3    1402.545334    4712.402997    1910.329098      0.00000   \n",
       "3       Card4   80406.373792  175303.383710   69362.056999      0.00000   \n",
       "4       Card5  292947.768214  660042.173300  240172.639948      0.00000   \n",
       "\n",
       "   purchase_mean   purchase_max   purchase_std  purchase_min   refund_mean  \\\n",
       "0  105852.430390  635114.582339  259284.442489           0.0      0.000000   \n",
       "1   74510.287444  347074.153657  121032.029955           0.0      0.000000   \n",
       "2   38188.700604  124267.552053   45634.247881           0.0      0.000000   \n",
       "3   47721.251107  102030.677973   30757.937057           0.0  26342.565031   \n",
       "4  125211.831989  286585.146435   89460.250366           0.0      0.000000   \n",
       "\n",
       "  ...        all__max       all__std       all__min     rk_wt_mean  \\\n",
       "0 ...   656932.481540  391718.288320 -581449.344229  134500.132300   \n",
       "1 ...    31281.501030   38377.622729  -88040.482357   57456.728299   \n",
       "2 ...     4712.402997   46092.343215 -122176.747301    3272.605779   \n",
       "3 ...   126970.595528   44316.017863    3092.854460   50987.999205   \n",
       "4 ...   502584.522272  231354.665614 -106290.902135  229176.753840   \n",
       "\n",
       "     rk_wt_max    rk_wt_min  fraud  fraud2  lab   fr  \n",
       "0  53665.23811  27198.53126    0.0     5.0    0  1.0  \n",
       "1  53665.23811  27198.53126    0.0     1.0    0  1.0  \n",
       "2  53665.23811  27198.53126    0.0     2.0    0  0.0  \n",
       "3  53665.23811  27198.53126    0.0     3.0    1  0.0  \n",
       "4  53665.23811  27198.53126    0.0     4.0    0  3.0  \n",
       "\n",
       "[5 rows x 39 columns]"
      ]
     },
     "execution_count": 152,
     "metadata": {},
     "output_type": "execute_result"
    }
   ],
   "source": [
    "f.head()"
   ]
  },
  {
   "cell_type": "code",
   "execution_count": 111,
   "metadata": {
    "scrolled": true,
    "slideshow": {
     "slide_type": "skip"
    }
   },
   "outputs": [],
   "source": [
    "p  = df[df['type_name']=='PAYMENT']"
   ]
  },
  {
   "cell_type": "code",
   "execution_count": 112,
   "metadata": {
    "slideshow": {
     "slide_type": "subslide"
    }
   },
   "outputs": [],
   "source": [
    "weighted_risk = p.groupby(['card number']).apply(lambda x : np.average(x.amountINR, weights = x['risk rating'])).to_dict()\n"
   ]
  },
  {
   "cell_type": "code",
   "execution_count": 113,
   "metadata": {
    "slideshow": {
     "slide_type": "subslide"
    }
   },
   "outputs": [],
   "source": [
    "f['rk_wt_mean'] = f['card number'].map(weighted_risk)\n"
   ]
  },
  {
   "cell_type": "code",
   "execution_count": 114,
   "metadata": {
    "slideshow": {
     "slide_type": "subslide"
    }
   },
   "outputs": [],
   "source": [
    "f['rk_wt_max'] = df['card number'].map((stat.groupby(['card Number'])['rk_wt'].max()).to_dict())\n",
    "f['rk_wt_min'] = df['card number'].map((stat.groupby(['card Number'])['rk_wt'].min()).to_dict())\n"
   ]
  },
  {
   "cell_type": "code",
   "execution_count": 115,
   "metadata": {
    "slideshow": {
     "slide_type": "subslide"
    }
   },
   "outputs": [],
   "source": [
    "f['fraud'] =  f['card number'].map(dict_fraud)\n",
    "f['fraud'] = f['fraud'].fillna(0)"
   ]
  },
  {
   "cell_type": "code",
   "execution_count": 130,
   "metadata": {
    "slideshow": {
     "slide_type": "skip"
    }
   },
   "outputs": [],
   "source": [
    "f = f.fillna(0)"
   ]
  },
  {
   "cell_type": "code",
   "execution_count": 91,
   "metadata": {
    "slideshow": {
     "slide_type": "subslide"
    }
   },
   "outputs": [],
   "source": [
    "def z_scr(df):\n",
    "    for c in df.columns:\n",
    "        if c=='card number':\n",
    "            continue\n",
    "        if df[df[c]!=0].shape[0]== 0:\n",
    "            print(c)\n",
    "            df = df.drop([c], axis=1)\n",
    "            continue\n",
    "        df[c] = (df[c]-df[c].mean())/(df[c].std())"
   ]
  },
  {
   "cell_type": "code",
   "execution_count": null,
   "metadata": {
    "slideshow": {
     "slide_type": "subslide"
    }
   },
   "outputs": [],
   "source": [
    "dic2=stat[(stat['pay']-stat['mean'])>1e5].groupby('card Number').count()['all_'].to_dict()\n",
    "f['fr']=f['card number'].map(dic2)"
   ]
  },
  {
   "cell_type": "code",
   "execution_count": 142,
   "metadata": {
    "slideshow": {
     "slide_type": "subslide"
    }
   },
   "outputs": [],
   "source": [
    "f['fr']=f['fr'].fillna(0)"
   ]
  },
  {
   "cell_type": "code",
   "execution_count": null,
   "metadata": {
    "slideshow": {
     "slide_type": "subslide"
    }
   },
   "outputs": [],
   "source": [
    "f2=f[['all__mean','rk_wt_mean','refund_mean','fraud','purchase_pay_ratio_mean','refund_no_max','refund_max']]\n",
    "z_scr(f2)\n",
    "f['lab']=f2['labels']"
   ]
  },
  {
   "cell_type": "markdown",
   "metadata": {
    "slideshow": {
     "slide_type": "slide"
    }
   },
   "source": [
    "## Clustering data and visualization "
   ]
  },
  {
   "cell_type": "markdown",
   "metadata": {
    "slideshow": {
     "slide_type": "subslide"
    }
   },
   "source": [
    "### CLUSTERING BY AGGREGATING FEATURES "
   ]
  },
  {
   "cell_type": "code",
   "execution_count": null,
   "metadata": {
    "slideshow": {
     "slide_type": "subslide"
    }
   },
   "outputs": [],
   "source": [
    "from sklearn.cluster import KMeans\n",
    "kmeans = KMeans(n_clusters=4)  \n",
    "kmeans.fit(np.array(f2))\n",
    "f2['labels']   = pd.Series(kmeans.labels_)\n",
    "\n",
    "Y = kmeans.labels_\n",
    "dict1 = {pd.Series(Y).value_counts().index[0]:0,\n",
    "           pd.Series(Y).value_counts().index[1]:1,\n",
    "           pd.Series(Y).value_counts().index[2]:2,pd.Series(Y).value_counts().index[3]:2\n",
    "           }\n",
    "f2['labels']=f2['labels'].map(dict1)"
   ]
  },
  {
   "cell_type": "code",
   "execution_count": 178,
   "metadata": {
    "slideshow": {
     "slide_type": "subslide"
    }
   },
   "outputs": [
    {
     "data": {
      "image/png": "[encoded data removed]",
      "text/plain": [
       "<matplotlib.figure.Figure at 0x7f4d0948e710>"
      ]
     },
     "metadata": {},
     "output_type": "display_data"
    }
   ],
   "source": [
    "#Visualization by PCA\n",
    "plt.figure(figsize=(15,7))\n",
    "from sklearn.decomposition import PCA\n",
    "pca = PCA(n_components=3)\n",
    "pca.fit(np.array(f2))\n",
    "X_pca = pca.transform(np.array(f2))\n",
    "plt.plot(X_pca[Y == 0, 0], X_pca[Y == 0, 1], 'bo', label='Risk : least', alpha=0.5)\n",
    "plt.plot(X_pca[Y == 1, 0], X_pca[Y == 1, 1], 'go', label='Risk : medium', alpha=0.5)\n",
    "plt.plot(X_pca[Y == 2, 0], X_pca[Y == 2, 1], 'ro', label='Risk : most', alpha=0.5)\n",
    "\n",
    "plt.legend(loc=0);"
   ]
  },
  {
   "cell_type": "code",
   "execution_count": 156,
   "metadata": {
    "slideshow": {
     "slide_type": "subslide"
    }
   },
   "outputs": [
    {
     "data": {
      "text/plain": [
       "Index(['card Number', 'billingStartDate', 'billingEndDate', 'paymentDueDate',\n",
       "       'pay', 'purchase', 'refund', 'refund_no', 'rk_wt', 'rk_wt2', 'fraud',\n",
       "       'over_pay', 'balance', 'purchase_pay_ratio', 'all_', 'fraud2', 'mean'],\n",
       "      dtype='object')"
      ]
     },
     "execution_count": 156,
     "metadata": {},
     "output_type": "execute_result"
    }
   ],
   "source": [
    "stat.columns"
   ]
  },
  {
   "cell_type": "markdown",
   "metadata": {
    "slideshow": {
     "slide_type": "slide"
    }
   },
   "source": [
    "## Month-wise data clustering and visualization"
   ]
  },
  {
   "cell_type": "code",
   "execution_count": 157,
   "metadata": {
    "slideshow": {
     "slide_type": "subslide"
    }
   },
   "outputs": [],
   "source": [
    "x = stat[['card Number','paymentDueDate','all_',  'purchase',  'refund', 'refund_no',\n",
    "       'rk_wt', 'over_pay', 'balance', 'fraud']]"
   ]
  },
  {
   "cell_type": "code",
   "execution_count": 158,
   "metadata": {
    "slideshow": {
     "slide_type": "subslide"
    }
   },
   "outputs": [],
   "source": [
    "dn = pd.DataFrame(cards, columns =['card'])"
   ]
  },
  {
   "cell_type": "code",
   "execution_count": 159,
   "metadata": {
    "scrolled": true,
    "slideshow": {
     "slide_type": "subslide"
    }
   },
   "outputs": [
    {
     "name": "stdout",
     "output_type": "stream",
     "text": [
      "4/27/2014\n",
      "1    1025\n",
      "2      35\n",
      "3      13\n",
      "Name: lable, dtype: int64\n",
      "5/27/2014\n",
      "1    1060\n",
      "3      15\n",
      "2      13\n",
      "Name: lable, dtype: int64\n",
      "6/27/2014\n",
      "1    1073\n",
      "3      10\n",
      "2      10\n",
      "Name: lable, dtype: int64\n",
      "7/27/2014\n",
      "1    1034\n",
      "2      43\n",
      "3      16\n",
      "Name: lable, dtype: int64\n",
      "8/27/2014\n",
      "1    1040\n",
      "2      29\n",
      "3       8\n",
      "Name: lable, dtype: int64\n",
      "9/27/2014\n",
      "1    989\n",
      "2     19\n",
      "3      8\n",
      "Name: lable, dtype: int64\n",
      "3/27/2014\n",
      "1    699\n",
      "2     16\n",
      "3      6\n",
      "Name: lable, dtype: int64\n",
      "10/25/2014\n",
      "refund\n",
      "refund_no\n",
      "fraud\n",
      "1    17\n",
      "2     4\n",
      "3     2\n",
      "Name: lable, dtype: int64\n"
     ]
    }
   ],
   "source": [
    "mon = stat['paymentDueDate'].unique()\n",
    "for m in mon:\n",
    "    print(m)\n",
    "    x1 = x[x['paymentDueDate']==m]\n",
    "    x1 = x1[['all_',  'purchase',  'refund', 'refund_no',\n",
    "       'rk_wt', 'over_pay', 'balance', 'fraud']]\n",
    "    c = x[x['paymentDueDate']==m]['card Number']\n",
    "    z_scr(x1)\n",
    "    x1 = np.asarray(x1)\n",
    "    kmeans.fit(x1)\n",
    "    y = kmeans.labels_\n",
    "    d = pd.DataFrame(columns=['card', 'lable'])\n",
    "    d['card'] = c\n",
    "    d['lable'] = y\n",
    "    #print(d['lable'].value_counts())\n",
    "    dict1 = {pd.Series(y).value_counts().index[0]:1,\n",
    "            pd.Series(y).value_counts().index[1]:2,\n",
    "            pd.Series(y).value_counts().index[2]:3,pd.Series(y).value_counts().index[3]:3\n",
    "            }\n",
    "    d['lable']=d['lable'].map(dict1)\n",
    "    name = 'month_' + m\n",
    "    dn[name] = dn['card'].map(dict(zip(d.card, d.lable))).fillna(0)\n",
    "    \n",
    "    print(d['lable'].value_counts())\n",
    "    #print(d)\n",
    "    #print(pd.Series(y).value_counts())\n",
    "    "
   ]
  },
  {
   "cell_type": "code",
   "execution_count": 160,
   "metadata": {
    "slideshow": {
     "slide_type": "subslide"
    }
   },
   "outputs": [],
   "source": [
    "cols=dn.columns.drop('card')\n",
    "fin2=[]\n",
    "fin3=[]\n",
    "for i in range(dn.shape[0]):\n",
    "    c2=0\n",
    "    c3=0\n",
    "    for c in cols:\n",
    "        if dn.loc[i,c]==2:\n",
    "            c2+=1;\n",
    "        elif dn.loc[i,c]==3:\n",
    "             c3+=1\n",
    "    fin2.append(c2)\n",
    "    fin3.append(c3)\n",
    "\n",
    "dn['c2']=pd.Series(fin2)\n",
    "dn['c3']=pd.Series(fin3)"
   ]
  },
  {
   "cell_type": "code",
   "execution_count": 162,
   "metadata": {
    "slideshow": {
     "slide_type": "subslide"
    }
   },
   "outputs": [
    {
     "data": {
      "image/png": "[encoded data removed]",
      "text/plain": [
       "<matplotlib.figure.Figure at 0x7f4d0979d588>"
      ]
     },
     "metadata": {},
     "output_type": "display_data"
    }
   ],
   "source": [
    "h = dn[(dn['c2']>0)&(dn['c3']>0)]\n",
    "import matplotlib.pyplot as plt\n",
    "ax = h[['c2','c3']].plot(kind='bar', title =\"k means in each billing period\", figsize=(15, 10), legend=True, fontsize=12)\n",
    "ax.set_xlabel(\"Card Number\", fontsize=12)\n",
    "lab = h['card']\n",
    "ax.set_xticklabels(lab, rotation=90)\n",
    "ax.set_ylabel(\"Number of times the card has been flagged as medium and most risky\", fontsize=12)\n",
    "plt.show()"
   ]
  },
  {
   "cell_type": "code",
   "execution_count": 169,
   "metadata": {
    "slideshow": {
     "slide_type": "skip"
    }
   },
   "outputs": [],
   "source": [
    "dn['card number'] = dn['card']"
   ]
  },
  {
   "cell_type": "markdown",
   "metadata": {
    "slideshow": {
     "slide_type": "slide"
    }
   },
   "source": [
    "## WEIGHTED RANKING "
   ]
  },
  {
   "cell_type": "code",
   "execution_count": 171,
   "metadata": {
    "slideshow": {
     "slide_type": "subslide"
    }
   },
   "outputs": [],
   "source": [
    "f = pd.merge(f, dn, on=['card number'])"
   ]
  },
  {
   "cell_type": "code",
   "execution_count": 175,
   "metadata": {
    "slideshow": {
     "slide_type": "subslide"
    }
   },
   "outputs": [
    {
     "name": "stderr",
     "output_type": "stream",
     "text": [
      "/home/shreemoyee/anaconda2/envs/py3k/lib/python3.6/site-packages/ipykernel/__main__.py:6: SettingWithCopyWarning: \n",
      "A value is trying to be set on a copy of a slice from a DataFrame.\n",
      "Try using .loc[row_indexer,col_indexer] = value instead\n",
      "\n",
      "See the caveats in the documentation: http://pandas.pydata.org/pandas-docs/stable/indexing.html#indexing-view-versus-copy\n"
     ]
    }
   ],
   "source": [
    "cols=['all__mean','rk_wt_mean','refund_mean','fraud','purchase_pay_ratio_mean','refund_no_max','refund_max',\n",
    "    'lab','c3']\n",
    "#cols=cols.drop(['card number','labels'])\n",
    "de = f[['card number']+ cols]\n",
    "for i in cols:\n",
    "    de[i]  = (de[i]-de[i].min())/(de[i].max()-de[i].min())\n",
    "vals=np.array([1,1.25,1.5,2.25,1,1.75,1.5,1,-0.1,1])\n",
    "#vals=np.array([1,1,1,3,1,1,1,1,0.5,1])\n",
    "rank=pd.DataFrame(columns=['card number','vals'])\n",
    "rank['card number']=de['card number']\n",
    "rank['vals']=pd.Series(np.dot(de[cols],vals))\n",
    "\n",
    "rank=rank.sort_values(by=['vals'], ascending = False)\n",
    "\n",
    "rank.index=range(rank.shape[0])"
   ]
  },
  {
   "cell_type": "code",
   "execution_count": 176,
   "metadata": {
    "slideshow": {
     "slide_type": "subslide"
    }
   },
   "outputs": [],
   "source": [
    "rank['rank']= rank.index+1\n",
    "rank = rank.drop('vals', 1)\n",
    "rank = rank.sort_values(by = ['card number'])\n",
    "rank.to_csv('/home/shreemoyee/Downloads/private-dataset/sub1.csv', index=False)"
   ]
  },
  {
   "cell_type": "code",
   "execution_count": 177,
   "metadata": {
    "slideshow": {
     "slide_type": "subslide"
    }
   },
   "outputs": [
    {
     "data": {
      "text/html": [
       "<div>\n",
       "<table border=\"1\" class=\"dataframe\">\n",
       "  <thead>\n",
       "    <tr style=\"text-align: right;\">\n",
       "      <th></th>\n",
       "      <th>card number</th>\n",
       "      <th>rank</th>\n",
       "    </tr>\n",
       "  </thead>\n",
       "  <tbody>\n",
       "    <tr>\n",
       "      <th>99</th>\n",
       "      <td>Card1</td>\n",
       "      <td>100</td>\n",
       "    </tr>\n",
       "    <tr>\n",
       "      <th>207</th>\n",
       "      <td>Card10</td>\n",
       "      <td>208</td>\n",
       "    </tr>\n",
       "    <tr>\n",
       "      <th>833</th>\n",
       "      <td>Card1000</td>\n",
       "      <td>834</td>\n",
       "    </tr>\n",
       "    <tr>\n",
       "      <th>860</th>\n",
       "      <td>Card1001</td>\n",
       "      <td>861</td>\n",
       "    </tr>\n",
       "    <tr>\n",
       "      <th>519</th>\n",
       "      <td>Card1002</td>\n",
       "      <td>520</td>\n",
       "    </tr>\n",
       "    <tr>\n",
       "      <th>959</th>\n",
       "      <td>Card1003</td>\n",
       "      <td>960</td>\n",
       "    </tr>\n",
       "    <tr>\n",
       "      <th>1048</th>\n",
       "      <td>Card1004</td>\n",
       "      <td>1049</td>\n",
       "    </tr>\n",
       "    <tr>\n",
       "      <th>720</th>\n",
       "      <td>Card1005</td>\n",
       "      <td>721</td>\n",
       "    </tr>\n",
       "    <tr>\n",
       "      <th>1049</th>\n",
       "      <td>Card1007</td>\n",
       "      <td>1050</td>\n",
       "    </tr>\n",
       "    <tr>\n",
       "      <th>88</th>\n",
       "      <td>Card1008</td>\n",
       "      <td>89</td>\n",
       "    </tr>\n",
       "    <tr>\n",
       "      <th>245</th>\n",
       "      <td>Card1009</td>\n",
       "      <td>246</td>\n",
       "    </tr>\n",
       "    <tr>\n",
       "      <th>473</th>\n",
       "      <td>Card101</td>\n",
       "      <td>474</td>\n",
       "    </tr>\n",
       "    <tr>\n",
       "      <th>1068</th>\n",
       "      <td>Card1010</td>\n",
       "      <td>1069</td>\n",
       "    </tr>\n",
       "    <tr>\n",
       "      <th>288</th>\n",
       "      <td>Card1011</td>\n",
       "      <td>289</td>\n",
       "    </tr>\n",
       "    <tr>\n",
       "      <th>809</th>\n",
       "      <td>Card1012</td>\n",
       "      <td>810</td>\n",
       "    </tr>\n",
       "    <tr>\n",
       "      <th>1058</th>\n",
       "      <td>Card1013</td>\n",
       "      <td>1059</td>\n",
       "    </tr>\n",
       "    <tr>\n",
       "      <th>276</th>\n",
       "      <td>Card1014</td>\n",
       "      <td>277</td>\n",
       "    </tr>\n",
       "    <tr>\n",
       "      <th>961</th>\n",
       "      <td>Card1015</td>\n",
       "      <td>962</td>\n",
       "    </tr>\n",
       "    <tr>\n",
       "      <th>923</th>\n",
       "      <td>Card1016</td>\n",
       "      <td>924</td>\n",
       "    </tr>\n",
       "    <tr>\n",
       "      <th>144</th>\n",
       "      <td>Card1017</td>\n",
       "      <td>145</td>\n",
       "    </tr>\n",
       "    <tr>\n",
       "      <th>734</th>\n",
       "      <td>Card1018</td>\n",
       "      <td>735</td>\n",
       "    </tr>\n",
       "    <tr>\n",
       "      <th>464</th>\n",
       "      <td>Card1019</td>\n",
       "      <td>465</td>\n",
       "    </tr>\n",
       "    <tr>\n",
       "      <th>154</th>\n",
       "      <td>Card102</td>\n",
       "      <td>155</td>\n",
       "    </tr>\n",
       "    <tr>\n",
       "      <th>872</th>\n",
       "      <td>Card1020</td>\n",
       "      <td>873</td>\n",
       "    </tr>\n",
       "    <tr>\n",
       "      <th>1033</th>\n",
       "      <td>Card1021</td>\n",
       "      <td>1034</td>\n",
       "    </tr>\n",
       "    <tr>\n",
       "      <th>890</th>\n",
       "      <td>Card1022</td>\n",
       "      <td>891</td>\n",
       "    </tr>\n",
       "    <tr>\n",
       "      <th>889</th>\n",
       "      <td>Card1023</td>\n",
       "      <td>890</td>\n",
       "    </tr>\n",
       "    <tr>\n",
       "      <th>922</th>\n",
       "      <td>Card1024</td>\n",
       "      <td>923</td>\n",
       "    </tr>\n",
       "    <tr>\n",
       "      <th>967</th>\n",
       "      <td>Card1025</td>\n",
       "      <td>968</td>\n",
       "    </tr>\n",
       "    <tr>\n",
       "      <th>953</th>\n",
       "      <td>Card1026</td>\n",
       "      <td>954</td>\n",
       "    </tr>\n",
       "    <tr>\n",
       "      <th>...</th>\n",
       "      <td>...</td>\n",
       "      <td>...</td>\n",
       "    </tr>\n",
       "    <tr>\n",
       "      <th>825</th>\n",
       "      <td>Card972</td>\n",
       "      <td>826</td>\n",
       "    </tr>\n",
       "    <tr>\n",
       "      <th>812</th>\n",
       "      <td>Card973</td>\n",
       "      <td>813</td>\n",
       "    </tr>\n",
       "    <tr>\n",
       "      <th>579</th>\n",
       "      <td>Card974</td>\n",
       "      <td>580</td>\n",
       "    </tr>\n",
       "    <tr>\n",
       "      <th>868</th>\n",
       "      <td>Card975</td>\n",
       "      <td>869</td>\n",
       "    </tr>\n",
       "    <tr>\n",
       "      <th>706</th>\n",
       "      <td>Card976</td>\n",
       "      <td>707</td>\n",
       "    </tr>\n",
       "    <tr>\n",
       "      <th>1042</th>\n",
       "      <td>Card977</td>\n",
       "      <td>1043</td>\n",
       "    </tr>\n",
       "    <tr>\n",
       "      <th>962</th>\n",
       "      <td>Card978</td>\n",
       "      <td>963</td>\n",
       "    </tr>\n",
       "    <tr>\n",
       "      <th>990</th>\n",
       "      <td>Card979</td>\n",
       "      <td>991</td>\n",
       "    </tr>\n",
       "    <tr>\n",
       "      <th>502</th>\n",
       "      <td>Card98</td>\n",
       "      <td>503</td>\n",
       "    </tr>\n",
       "    <tr>\n",
       "      <th>1021</th>\n",
       "      <td>Card980</td>\n",
       "      <td>1022</td>\n",
       "    </tr>\n",
       "    <tr>\n",
       "      <th>1038</th>\n",
       "      <td>Card981</td>\n",
       "      <td>1039</td>\n",
       "    </tr>\n",
       "    <tr>\n",
       "      <th>1007</th>\n",
       "      <td>Card982</td>\n",
       "      <td>1008</td>\n",
       "    </tr>\n",
       "    <tr>\n",
       "      <th>1059</th>\n",
       "      <td>Card983</td>\n",
       "      <td>1060</td>\n",
       "    </tr>\n",
       "    <tr>\n",
       "      <th>1077</th>\n",
       "      <td>Card984</td>\n",
       "      <td>1078</td>\n",
       "    </tr>\n",
       "    <tr>\n",
       "      <th>708</th>\n",
       "      <td>Card985</td>\n",
       "      <td>709</td>\n",
       "    </tr>\n",
       "    <tr>\n",
       "      <th>768</th>\n",
       "      <td>Card986</td>\n",
       "      <td>769</td>\n",
       "    </tr>\n",
       "    <tr>\n",
       "      <th>404</th>\n",
       "      <td>Card987</td>\n",
       "      <td>405</td>\n",
       "    </tr>\n",
       "    <tr>\n",
       "      <th>765</th>\n",
       "      <td>Card988</td>\n",
       "      <td>766</td>\n",
       "    </tr>\n",
       "    <tr>\n",
       "      <th>82</th>\n",
       "      <td>Card989</td>\n",
       "      <td>83</td>\n",
       "    </tr>\n",
       "    <tr>\n",
       "      <th>70</th>\n",
       "      <td>Card99</td>\n",
       "      <td>71</td>\n",
       "    </tr>\n",
       "    <tr>\n",
       "      <th>529</th>\n",
       "      <td>Card990</td>\n",
       "      <td>530</td>\n",
       "    </tr>\n",
       "    <tr>\n",
       "      <th>899</th>\n",
       "      <td>Card991</td>\n",
       "      <td>900</td>\n",
       "    </tr>\n",
       "    <tr>\n",
       "      <th>955</th>\n",
       "      <td>Card992</td>\n",
       "      <td>956</td>\n",
       "    </tr>\n",
       "    <tr>\n",
       "      <th>603</th>\n",
       "      <td>Card993</td>\n",
       "      <td>604</td>\n",
       "    </tr>\n",
       "    <tr>\n",
       "      <th>105</th>\n",
       "      <td>Card994</td>\n",
       "      <td>106</td>\n",
       "    </tr>\n",
       "    <tr>\n",
       "      <th>524</th>\n",
       "      <td>Card995</td>\n",
       "      <td>525</td>\n",
       "    </tr>\n",
       "    <tr>\n",
       "      <th>849</th>\n",
       "      <td>Card996</td>\n",
       "      <td>850</td>\n",
       "    </tr>\n",
       "    <tr>\n",
       "      <th>1001</th>\n",
       "      <td>Card997</td>\n",
       "      <td>1002</td>\n",
       "    </tr>\n",
       "    <tr>\n",
       "      <th>360</th>\n",
       "      <td>Card998</td>\n",
       "      <td>361</td>\n",
       "    </tr>\n",
       "    <tr>\n",
       "      <th>874</th>\n",
       "      <td>Card999</td>\n",
       "      <td>875</td>\n",
       "    </tr>\n",
       "  </tbody>\n",
       "</table>\n",
       "<p>1113 rows × 2 columns</p>\n",
       "</div>"
      ],
      "text/plain": [
       "     card number  rank\n",
       "99         Card1   100\n",
       "207       Card10   208\n",
       "833     Card1000   834\n",
       "860     Card1001   861\n",
       "519     Card1002   520\n",
       "959     Card1003   960\n",
       "1048    Card1004  1049\n",
       "720     Card1005   721\n",
       "1049    Card1007  1050\n",
       "88      Card1008    89\n",
       "245     Card1009   246\n",
       "473      Card101   474\n",
       "1068    Card1010  1069\n",
       "288     Card1011   289\n",
       "809     Card1012   810\n",
       "1058    Card1013  1059\n",
       "276     Card1014   277\n",
       "961     Card1015   962\n",
       "923     Card1016   924\n",
       "144     Card1017   145\n",
       "734     Card1018   735\n",
       "464     Card1019   465\n",
       "154      Card102   155\n",
       "872     Card1020   873\n",
       "1033    Card1021  1034\n",
       "890     Card1022   891\n",
       "889     Card1023   890\n",
       "922     Card1024   923\n",
       "967     Card1025   968\n",
       "953     Card1026   954\n",
       "...          ...   ...\n",
       "825      Card972   826\n",
       "812      Card973   813\n",
       "579      Card974   580\n",
       "868      Card975   869\n",
       "706      Card976   707\n",
       "1042     Card977  1043\n",
       "962      Card978   963\n",
       "990      Card979   991\n",
       "502       Card98   503\n",
       "1021     Card980  1022\n",
       "1038     Card981  1039\n",
       "1007     Card982  1008\n",
       "1059     Card983  1060\n",
       "1077     Card984  1078\n",
       "708      Card985   709\n",
       "768      Card986   769\n",
       "404      Card987   405\n",
       "765      Card988   766\n",
       "82       Card989    83\n",
       "70        Card99    71\n",
       "529      Card990   530\n",
       "899      Card991   900\n",
       "955      Card992   956\n",
       "603      Card993   604\n",
       "105      Card994   106\n",
       "524      Card995   525\n",
       "849      Card996   850\n",
       "1001     Card997  1002\n",
       "360      Card998   361\n",
       "874      Card999   875\n",
       "\n",
       "[1113 rows x 2 columns]"
      ]
     },
     "execution_count": 177,
     "metadata": {},
     "output_type": "execute_result"
    }
   ],
   "source": [
    "rank"
   ]
  },
  {
   "cell_type": "code",
   "execution_count": null,
   "metadata": {},
   "outputs": [],
   "source": []
  }
 ],
 "metadata": {
  "celltoolbar": "Slideshow",
  "kernelspec": {
   "display_name": "Python [conda env:py3k]",
   "language": "python",
   "name": "conda-env-py3k-py"
  },
  "language_info": {
   "codemirror_mode": {
    "name": "ipython",
    "version": 3
   },
   "file_extension": ".py",
   "mimetype": "text/x-python",
   "name": "python",
   "nbconvert_exporter": "python",
   "pygments_lexer": "ipython3",
   "version": "3.6.0"
  }
 },
 "nbformat": 4,
 "nbformat_minor": 2
}
